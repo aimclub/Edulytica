{
 "cells": [
  {
   "cell_type": "markdown",
   "metadata": {},
   "source": [
    "## Main pipeline"
   ]
  },
  {
   "cell_type": "code",
   "execution_count": 1,
   "metadata": {},
   "outputs": [
    {
     "name": "stdout",
     "output_type": "stream",
     "text": [
      "c:\\Users\\fortn\\Downloads\\Edulytica\\src\\rag\n"
     ]
    }
   ],
   "source": [
    "%cd .."
   ]
  },
  {
   "cell_type": "code",
   "execution_count": 2,
   "metadata": {},
   "outputs": [],
   "source": [
    "from pipeline import RAGPipeline"
   ]
  },
  {
   "cell_type": "code",
   "execution_count": 3,
   "metadata": {},
   "outputs": [],
   "source": [
    "# Пример использования\n",
    "article_path = \"data/article_2.txt\"\n",
    "with open(article_path, 'r', encoding='utf-8') as f:\n",
    "    article_text = f.read()"
   ]
  },
  {
   "cell_type": "code",
   "execution_count": 4,
   "metadata": {},
   "outputs": [],
   "source": [
    "conference_name = \"KMU\""
   ]
  },
  {
   "cell_type": "code",
   "execution_count": 5,
   "metadata": {},
   "outputs": [],
   "source": [
    "promt = \"\"\"Вы – эксперт, опытный рецензент научных статей, обладающий глубокими знаниями в области академического письма и структуры научных публикаций.\n",
    "\n",
    "Проанализируйте предоставленную научную статью и выделите её название.\n",
    "\n",
    "Следуйте следующим шагам (выполняйте все шаги \"в уме\", не нужно генерировать ваши размышления в ответе на запрос):\n",
    "Шаг 1. Внимательно изучите начало статьи, где обычно располагается название.\n",
    "Шаг 2. Определите полное название статьи, включая подзаголовок, если он есть.\n",
    "Шаг 3. Убедитесь, что выделенный текст действительно является названием, а не частью аннотации или введения.\n",
    "\n",
    "Необходимые данные:\n",
    "- Полный текст научной статьи\n",
    "\n",
    "Пожалуйста, выполните проверку согласно указанным шагам.\n",
    "Вас попросили дать ответ строго в следующем формате: \"Название статьи: [полное название статьи]\"\n",
    "\n",
    "Пожалуйста, не пишите ничего лишнего, чего нет в формате ответа.\n",
    "\"\"\""
   ]
  },
  {
   "cell_type": "code",
   "execution_count": 6,
   "metadata": {},
   "outputs": [
    {
     "name": "stderr",
     "output_type": "stream",
     "text": [
      "\u001b[32m2025-04-30 12:44:46.170\u001b[0m | \u001b[1mINFO    \u001b[0m | \u001b[36mcore.utils.config_loader\u001b[0m:\u001b[36mload_config\u001b[0m:\u001b[36m68\u001b[0m - \u001b[1mConfiguration successfully loaded: {'host': 'localhost', 'port': 8080, 'collections_file': 'all_collections.json', 'embedding_model': 'BAAI/bge-m3', 'rag_promt': 'общая информация о конференции, правила оформления статей, требования к структуре и форматированию, цели конференции', 'additional_info_prefix': 'Дополнительная информация:', 'general_top': 3, 'artical_top': 1}\u001b[0m\n",
      "\u001b[32m2025-04-30 12:44:46.170\u001b[0m | \u001b[1mINFO    \u001b[0m | \u001b[36mcore.embedder.embedding_processor\u001b[0m:\u001b[36m__init__\u001b[0m:\u001b[36m22\u001b[0m - \u001b[1mInitializing EmbeddingProcessor with model: BAAI/bge-m3\u001b[0m\n",
      "d:\\miniconda3\\envs\\ed\\lib\\site-packages\\tqdm\\auto.py:21: TqdmWarning: IProgress not found. Please update jupyter and ipywidgets. See https://ipywidgets.readthedocs.io/en/stable/user_install.html\n",
      "  from .autonotebook import tqdm as notebook_tqdm\n",
      "\u001b[32m2025-04-30 12:44:52.309\u001b[0m | \u001b[1mINFO    \u001b[0m | \u001b[36mcore.embedder.embedding_processor\u001b[0m:\u001b[36m__init__\u001b[0m:\u001b[36m27\u001b[0m - \u001b[1mSuccessfully initialized embedding function with model BAAI/bge-m3\u001b[0m\n",
      "\u001b[32m2025-04-30 12:44:52.310\u001b[0m | \u001b[1mINFO    \u001b[0m | \u001b[36mcore.chroma_db.chroma_manager\u001b[0m:\u001b[36m__init__\u001b[0m:\u001b[36m23\u001b[0m - \u001b[1mInitializing ChromaDBManager with host: localhost, port: 8080\u001b[0m\n",
      "\u001b[32m2025-04-30 12:44:52.628\u001b[0m | \u001b[1mINFO    \u001b[0m | \u001b[36mcore.chroma_db.chroma_manager\u001b[0m:\u001b[36m__init__\u001b[0m:\u001b[36m28\u001b[0m - \u001b[1mSuccessfully connected to ChromaDB\u001b[0m\n"
     ]
    }
   ],
   "source": [
    "pipeline = RAGPipeline()\n",
    "        "
   ]
  },
  {
   "cell_type": "code",
   "execution_count": 7,
   "metadata": {},
   "outputs": [
    {
     "name": "stderr",
     "output_type": "stream",
     "text": [
      "\u001b[32m2025-04-30 12:44:52.642\u001b[0m | \u001b[1mINFO    \u001b[0m | \u001b[36mcore.chroma_db.chroma_manager\u001b[0m:\u001b[36mget_collection\u001b[0m:\u001b[36m98\u001b[0m - \u001b[1mRetrieved collection 'KMU'\u001b[0m\n",
      "\u001b[32m2025-04-30 12:44:52.995\u001b[0m | \u001b[1mINFO    \u001b[0m | \u001b[36mcore.text_processor.text_processor\u001b[0m:\u001b[36mpreprocess_article\u001b[0m:\u001b[36m67\u001b[0m - \u001b[1mPreprocessed article into 3 parts\u001b[0m\n",
      "\u001b[32m2025-04-30 12:44:52.997\u001b[0m | \u001b[1mINFO    \u001b[0m | \u001b[36mpipeline\u001b[0m:\u001b[36mpreprocess_article\u001b[0m:\u001b[36m49\u001b[0m - \u001b[1mPreprocessed article into 3 chunks\u001b[0m\n",
      "\u001b[32m2025-04-30 12:44:52.998\u001b[0m | \u001b[1mINFO    \u001b[0m | \u001b[36mcore.chroma_db.chroma_manager\u001b[0m:\u001b[36mget_collection\u001b[0m:\u001b[36m98\u001b[0m - \u001b[1mRetrieved collection 'KMU'\u001b[0m\n"
     ]
    }
   ],
   "source": [
    "article_info = pipeline.pipeline(article_text, conference_name, promt)"
   ]
  },
  {
   "cell_type": "code",
   "execution_count": 8,
   "metadata": {},
   "outputs": [
    {
     "name": "stdout",
     "output_type": "stream",
     "text": [
      "Вы – эксперт, опытный рецензент научных статей, обладающий глубокими знаниями в области академического письма и структуры научных публикаций.\n",
      "\n",
      "Проанализируйте предоставленную научную статью и выделите её название.\n",
      "\n",
      "Следуйте следующим шагам (выполняйте все шаги \"в уме\", не нужно генерировать ваши размышления в ответе на запрос):\n",
      "Шаг 1. Внимательно изучите начало статьи, где обычно располагается название.\n",
      "Шаг 2. Определите полное название статьи, включая подзаголовок, если он есть.\n",
      "Шаг 3. Убедитесь, что выделенный текст действительно является названием, а не частью аннотации или введения.\n",
      "\n",
      "Необходимые данные:\n",
      "- Полный текст научной статьи\n",
      "\n",
      "Пожалуйста, выполните проверку согласно указанным шагам.\n",
      "Вас попросили дать ответ строго в следующем формате: \"Название статьи: [полное название статьи]\"\n",
      "\n",
      "Пожалуйста, не пишите ничего лишнего, чего нет в формате ответа.\n",
      "\n",
      "\n",
      "Дополнительная информация:\n",
      "В Конгрессе имеют право участвовать молодые ученые, ведущие научно-исследовательскую деятельность по профилю объявленных секций и научных школ, имеющие следующие статусы:\n",
      "школьник\n",
      "бакалавр\n",
      "магистрант\n",
      "аспирант\n",
      "сотрудник вуза\n",
      "другой статус\n",
      "Участниками Конгресса могут быть представители образовательных учреждений, научных организаций и производственных предприятий.\n",
      "К участию в Конгрессе допускаются участники и группы участников (не более трех соавторов в каждом докладе), участники могут указать руководителей и консультантов (не более двух в каждом тезисе доклада).\n",
      "Выступать с докладом в ОНЛАЙН формате могут те участники, доклады которых включены в программу Конгресса.\n",
      "Участие одного автора в различных секциях не ограничивается. Выступать с одинаковым докладом на разных секциях запрещено.\n",
      "\n",
      "Статьи будут проходить рецензирование, проверку на оригинальность в системе «Антиплагиат» и оформляться по требованиям изданий ИТМО и Сборника трудов Конгресса.\n",
      "Для сборника трудов Конгресса - оригинальность статьи должна составлять не менее 70 процентов.\n",
      "\n",
      "В данной секции мы сосредоточимся на ключевых аспектах фотоники, включая как теоретические основы, так и практические применения. Участники смогут обсудить последние достижения в области, оптических материалов, квантовой фотоники и фотонных технологий.\n",
      "\n",
      "К представлению принимаются междисциплинарные проекты, нацеленные на решение комплексных задач в области химии, материаловедения и смежных направлений.\n",
      "Представляемые проекты могут быть ориентированы как на фундаментальные исследования в области разработки новых веществ, материалов и подходов, так и на оптимизацию существующих решений для автоматизации процессов.\n",
      "Особое внимание уделяется проектам, в которых для обработки и систематизации данных используются информационные технологии и инструменты из области искусственного интеллекта.\n",
      "К представлению также принимаются исследования, включающие:\n",
      "моделирование веществ и материалов, их свойств и путей взаимодействия на различных уровнях;\n",
      "разработку роботизированных и автоматизированных платформ для реализации химических процессов.\n",
      "К участию приглашаются аспиранты, магистранты и школьники.\n"
     ]
    }
   ],
   "source": [
    "print(article_info)\n"
   ]
  },
  {
   "cell_type": "markdown",
   "metadata": {},
   "source": [
    "## ChromaDB delete all collections"
   ]
  },
  {
   "cell_type": "code",
   "execution_count": 9,
   "metadata": {},
   "outputs": [],
   "source": [
    "from core.chroma_db.chroma_manager import ChromaDBManager\n",
    "from core.embedder.embedding_processor import EmbeddingProcessor\n"
   ]
  },
  {
   "cell_type": "code",
   "execution_count": 10,
   "metadata": {},
   "outputs": [
    {
     "name": "stderr",
     "output_type": "stream",
     "text": [
      "\u001b[32m2025-04-23 23:22:36.563\u001b[0m | \u001b[1mINFO    \u001b[0m | \u001b[36mcore.embedder.embedding_processor\u001b[0m:\u001b[36m__init__\u001b[0m:\u001b[36m23\u001b[0m - \u001b[1mInitializing EmbeddingProcessor with model: BAAI/bge-m3\u001b[0m\n",
      "\u001b[32m2025-04-23 23:22:36.563\u001b[0m | \u001b[1mINFO    \u001b[0m | \u001b[36mcore.embedder.embedding_processor\u001b[0m:\u001b[36m__init__\u001b[0m:\u001b[36m28\u001b[0m - \u001b[1mSuccessfully initialized embedding function with model BAAI/bge-m3\u001b[0m\n",
      "\u001b[32m2025-04-23 23:22:36.563\u001b[0m | \u001b[1mINFO    \u001b[0m | \u001b[36mcore.chroma_db.chroma_manager\u001b[0m:\u001b[36m__init__\u001b[0m:\u001b[36m24\u001b[0m - \u001b[1mInitializing ChromaDBManager with host: localhost, port: 8080\u001b[0m\n",
      "\u001b[32m2025-04-23 23:22:36.798\u001b[0m | \u001b[1mINFO    \u001b[0m | \u001b[36mcore.chroma_db.chroma_manager\u001b[0m:\u001b[36m__init__\u001b[0m:\u001b[36m29\u001b[0m - \u001b[1mSuccessfully connected to ChromaDB\u001b[0m\n",
      "\u001b[32m2025-04-23 23:22:36.803\u001b[0m | \u001b[1mINFO    \u001b[0m | \u001b[36mcore.chroma_db.chroma_manager\u001b[0m:\u001b[36mlist_collections\u001b[0m:\u001b[36m56\u001b[0m - \u001b[1mListed 5 collections in ChromaDB\u001b[0m\n",
      "\u001b[32m2025-04-23 23:22:36.813\u001b[0m | \u001b[1mINFO    \u001b[0m | \u001b[36mcore.chroma_db.chroma_manager\u001b[0m:\u001b[36mdelete_all_collections\u001b[0m:\u001b[36m266\u001b[0m - \u001b[1mDeleted collection 'KMU'\u001b[0m\n",
      "\u001b[32m2025-04-23 23:22:36.820\u001b[0m | \u001b[1mINFO    \u001b[0m | \u001b[36mcore.chroma_db.chroma_manager\u001b[0m:\u001b[36mdelete_all_collections\u001b[0m:\u001b[36m266\u001b[0m - \u001b[1mDeleted collection 'FRUCT'\u001b[0m\n",
      "\u001b[32m2025-04-23 23:22:36.828\u001b[0m | \u001b[1mINFO    \u001b[0m | \u001b[36mcore.chroma_db.chroma_manager\u001b[0m:\u001b[36mdelete_all_collections\u001b[0m:\u001b[36m266\u001b[0m - \u001b[1mDeleted collection 'EPI'\u001b[0m\n",
      "\u001b[32m2025-04-23 23:22:36.838\u001b[0m | \u001b[1mINFO    \u001b[0m | \u001b[36mcore.chroma_db.chroma_manager\u001b[0m:\u001b[36mdelete_all_collections\u001b[0m:\u001b[36m266\u001b[0m - \u001b[1mDeleted collection 'YSC'\u001b[0m\n",
      "\u001b[32m2025-04-23 23:22:36.848\u001b[0m | \u001b[1mINFO    \u001b[0m | \u001b[36mcore.chroma_db.chroma_manager\u001b[0m:\u001b[36mdelete_all_collections\u001b[0m:\u001b[36m266\u001b[0m - \u001b[1mDeleted collection 'PPS'\u001b[0m\n",
      "\u001b[32m2025-04-23 23:22:36.848\u001b[0m | \u001b[1mINFO    \u001b[0m | \u001b[36mcore.chroma_db.chroma_manager\u001b[0m:\u001b[36mdelete_all_collections\u001b[0m:\u001b[36m284\u001b[0m - \u001b[1mDelete all collections operation completed: 5 deleted, 0 failed\u001b[0m\n"
     ]
    }
   ],
   "source": [
    "# Initialize embedding processor\n",
    "embedding_processor = EmbeddingProcessor()\n",
    "\n",
    "# Initialize ChromaDB manager\n",
    "chroma_manager = ChromaDBManager(embedding_processor=embedding_processor)\n",
    "\n",
    "# Delete all collections\n",
    "result = chroma_manager.delete_all_collections()"
   ]
  },
  {
   "cell_type": "code",
   "execution_count": 11,
   "metadata": {},
   "outputs": [
    {
     "name": "stdout",
     "output_type": "stream",
     "text": [
      "Success: True\n",
      "Total collections: 5\n",
      "Deleted: 5\n",
      "Failed: 0\n"
     ]
    }
   ],
   "source": [
    "# Check the results\n",
    "print(f\"Success: {result['success']}\")\n",
    "print(f\"Total collections: {result['total']}\")\n",
    "print(f\"Deleted: {result['deleted']}\")\n",
    "print(f\"Failed: {result['failed']}\")\n",
    "\n",
    "if result['failed'] > 0:\n",
    "    print(f\"Failed to delete collections: {result['failed_collections']}\")"
   ]
  },
  {
   "cell_type": "markdown",
   "metadata": {},
   "source": [
    "## ChromaDB set collections"
   ]
  },
  {
   "cell_type": "code",
   "execution_count": 12,
   "metadata": {},
   "outputs": [],
   "source": [
    "from core.chroma_db.chroma_manager import ChromaDBManager\n",
    "from core.embedder.embedding_processor import EmbeddingProcessor"
   ]
  },
  {
   "cell_type": "code",
   "execution_count": 13,
   "metadata": {},
   "outputs": [
    {
     "name": "stderr",
     "output_type": "stream",
     "text": [
      "\u001b[32m2025-04-23 23:24:21.701\u001b[0m | \u001b[1mINFO    \u001b[0m | \u001b[36mcore.embedder.embedding_processor\u001b[0m:\u001b[36m__init__\u001b[0m:\u001b[36m23\u001b[0m - \u001b[1mInitializing EmbeddingProcessor with model: BAAI/bge-m3\u001b[0m\n",
      "\u001b[32m2025-04-23 23:24:21.701\u001b[0m | \u001b[1mINFO    \u001b[0m | \u001b[36mcore.embedder.embedding_processor\u001b[0m:\u001b[36m__init__\u001b[0m:\u001b[36m28\u001b[0m - \u001b[1mSuccessfully initialized embedding function with model BAAI/bge-m3\u001b[0m\n",
      "\u001b[32m2025-04-23 23:24:21.701\u001b[0m | \u001b[1mINFO    \u001b[0m | \u001b[36mcore.chroma_db.chroma_manager\u001b[0m:\u001b[36m__init__\u001b[0m:\u001b[36m24\u001b[0m - \u001b[1mInitializing ChromaDBManager with host: localhost, port: 8080\u001b[0m\n",
      "\u001b[32m2025-04-23 23:24:21.935\u001b[0m | \u001b[1mINFO    \u001b[0m | \u001b[36mcore.chroma_db.chroma_manager\u001b[0m:\u001b[36m__init__\u001b[0m:\u001b[36m29\u001b[0m - \u001b[1mSuccessfully connected to ChromaDB\u001b[0m\n"
     ]
    }
   ],
   "source": [
    "\n",
    "# Initialize embedding processor\n",
    "embedding_processor = EmbeddingProcessor()\n",
    "\n",
    "# Initialize ChromaDB manager\n",
    "chroma_manager = ChromaDBManager(embedding_processor=embedding_processor)"
   ]
  },
  {
   "cell_type": "code",
   "execution_count": 14,
   "metadata": {},
   "outputs": [],
   "source": [
    "\n",
    "# Path to the Excel file with conference specifications\n",
    "excel_path = \"data/Specification.xlsx\""
   ]
  },
  {
   "cell_type": "code",
   "execution_count": 16,
   "metadata": {},
   "outputs": [
    {
     "name": "stderr",
     "output_type": "stream",
     "text": [
      "\u001b[32m2025-04-23 23:25:09.076\u001b[0m | \u001b[1mINFO    \u001b[0m | \u001b[36mcore.embedder.embedding_processor\u001b[0m:\u001b[36mprocess_excel_data\u001b[0m:\u001b[36m103\u001b[0m - \u001b[1mProcessing Excel data from file: data/Specification.xlsx, sheet: ППС\u001b[0m\n",
      "\u001b[32m2025-04-23 23:25:09.184\u001b[0m | \u001b[1mINFO    \u001b[0m | \u001b[36mcore.embedder.embedding_processor\u001b[0m:\u001b[36mprocess_excel_data\u001b[0m:\u001b[36m109\u001b[0m - \u001b[1mSuccessfully read Excel data with shape: (1, 8)\u001b[0m\n",
      "\u001b[32m2025-04-23 23:25:09.185\u001b[0m | \u001b[1mINFO    \u001b[0m | \u001b[36mcore.embedder.embedding_processor\u001b[0m:\u001b[36mprocess_excel_data\u001b[0m:\u001b[36m150\u001b[0m - \u001b[1mProcessed 8 documents from Excel data\u001b[0m\n",
      "\u001b[32m2025-04-23 23:25:09.252\u001b[0m | \u001b[1mINFO    \u001b[0m | \u001b[36mcore.chroma_db.chroma_manager\u001b[0m:\u001b[36mcreate_collection\u001b[0m:\u001b[36m87\u001b[0m - \u001b[1mCreated new collection 'PPS' with metadata: {'source_file': 'data/Specification.xlsx', 'sheet_name': 'ППС', 'conf_title': 'Научная и учебно-методическая конференция Университета ИТМО (ППС)', 'conf_title_short': 'ППС'}\u001b[0m\n",
      "\u001b[32m2025-04-23 23:25:09.257\u001b[0m | \u001b[1mINFO    \u001b[0m | \u001b[36mcore.chroma_db.chroma_manager\u001b[0m:\u001b[36mget_collection\u001b[0m:\u001b[36m106\u001b[0m - \u001b[1mRetrieved collection 'PPS'\u001b[0m\n",
      "\u001b[32m2025-04-23 23:25:43.980\u001b[0m | \u001b[1mINFO    \u001b[0m | \u001b[36mcore.chroma_db.chroma_manager\u001b[0m:\u001b[36madd_documents\u001b[0m:\u001b[36m146\u001b[0m - \u001b[1mAdded 8 documents to collection 'PPS'\u001b[0m\n",
      "\u001b[32m2025-04-23 23:25:43.980\u001b[0m | \u001b[1mINFO    \u001b[0m | \u001b[36mcore.chroma_db.chroma_manager\u001b[0m:\u001b[36madd_from_excel\u001b[0m:\u001b[36m218\u001b[0m - \u001b[1mSuccessfully added data from data/Specification.xlsx (ППС) to collection 'PPS'\u001b[0m\n",
      "\u001b[32m2025-04-23 23:25:43.981\u001b[0m | \u001b[1mINFO    \u001b[0m | \u001b[36mcore.embedder.embedding_processor\u001b[0m:\u001b[36mprocess_excel_data\u001b[0m:\u001b[36m103\u001b[0m - \u001b[1mProcessing Excel data from file: data/Specification.xlsx, sheet: КМУ\u001b[0m\n",
      "\u001b[32m2025-04-23 23:25:44.008\u001b[0m | \u001b[1mINFO    \u001b[0m | \u001b[36mcore.embedder.embedding_processor\u001b[0m:\u001b[36mprocess_excel_data\u001b[0m:\u001b[36m109\u001b[0m - \u001b[1mSuccessfully read Excel data with shape: (1, 192)\u001b[0m\n",
      "\u001b[32m2025-04-23 23:25:44.016\u001b[0m | \u001b[1mINFO    \u001b[0m | \u001b[36mcore.embedder.embedding_processor\u001b[0m:\u001b[36mprocess_excel_data\u001b[0m:\u001b[36m150\u001b[0m - \u001b[1mProcessed 192 documents from Excel data\u001b[0m\n",
      "\u001b[32m2025-04-23 23:25:44.075\u001b[0m | \u001b[1mINFO    \u001b[0m | \u001b[36mcore.chroma_db.chroma_manager\u001b[0m:\u001b[36mcreate_collection\u001b[0m:\u001b[36m87\u001b[0m - \u001b[1mCreated new collection 'KMU' with metadata: {'source_file': 'data/Specification.xlsx', 'sheet_name': 'КМУ', 'conf_title': 'Конгресс молодых ученых Университета ИТМО', 'conf_title_short': 'КМУ'}\u001b[0m\n",
      "\u001b[32m2025-04-23 23:25:44.077\u001b[0m | \u001b[1mINFO    \u001b[0m | \u001b[36mcore.chroma_db.chroma_manager\u001b[0m:\u001b[36mget_collection\u001b[0m:\u001b[36m106\u001b[0m - \u001b[1mRetrieved collection 'KMU'\u001b[0m\n",
      "\u001b[32m2025-04-23 23:26:03.182\u001b[0m | \u001b[1mINFO    \u001b[0m | \u001b[36mcore.chroma_db.chroma_manager\u001b[0m:\u001b[36madd_documents\u001b[0m:\u001b[36m146\u001b[0m - \u001b[1mAdded 192 documents to collection 'KMU'\u001b[0m\n",
      "\u001b[32m2025-04-23 23:26:03.182\u001b[0m | \u001b[1mINFO    \u001b[0m | \u001b[36mcore.chroma_db.chroma_manager\u001b[0m:\u001b[36madd_from_excel\u001b[0m:\u001b[36m218\u001b[0m - \u001b[1mSuccessfully added data from data/Specification.xlsx (КМУ) to collection 'KMU'\u001b[0m\n",
      "\u001b[32m2025-04-23 23:26:03.183\u001b[0m | \u001b[1mINFO    \u001b[0m | \u001b[36mcore.embedder.embedding_processor\u001b[0m:\u001b[36mprocess_excel_data\u001b[0m:\u001b[36m103\u001b[0m - \u001b[1mProcessing Excel data from file: data/Specification.xlsx, sheet: ЭПИ\u001b[0m\n",
      "\u001b[32m2025-04-23 23:26:03.198\u001b[0m | \u001b[1mINFO    \u001b[0m | \u001b[36mcore.embedder.embedding_processor\u001b[0m:\u001b[36mprocess_excel_data\u001b[0m:\u001b[36m109\u001b[0m - \u001b[1mSuccessfully read Excel data with shape: (1, 23)\u001b[0m\n",
      "\u001b[32m2025-04-23 23:26:03.199\u001b[0m | \u001b[1mINFO    \u001b[0m | \u001b[36mcore.embedder.embedding_processor\u001b[0m:\u001b[36mprocess_excel_data\u001b[0m:\u001b[36m150\u001b[0m - \u001b[1mProcessed 23 documents from Excel data\u001b[0m\n",
      "\u001b[32m2025-04-23 23:26:03.257\u001b[0m | \u001b[1mINFO    \u001b[0m | \u001b[36mcore.chroma_db.chroma_manager\u001b[0m:\u001b[36mcreate_collection\u001b[0m:\u001b[36m87\u001b[0m - \u001b[1mCreated new collection 'EPI' with metadata: {'source_file': 'data/Specification.xlsx', 'sheet_name': 'ЭПИ', 'conf_title': 'Экономика, право и инновации', 'conf_title_short': 'ЭПИ'}\u001b[0m\n",
      "\u001b[32m2025-04-23 23:26:03.261\u001b[0m | \u001b[1mINFO    \u001b[0m | \u001b[36mcore.chroma_db.chroma_manager\u001b[0m:\u001b[36mget_collection\u001b[0m:\u001b[36m106\u001b[0m - \u001b[1mRetrieved collection 'EPI'\u001b[0m\n",
      "\u001b[32m2025-04-23 23:26:22.712\u001b[0m | \u001b[1mINFO    \u001b[0m | \u001b[36mcore.chroma_db.chroma_manager\u001b[0m:\u001b[36madd_documents\u001b[0m:\u001b[36m146\u001b[0m - \u001b[1mAdded 23 documents to collection 'EPI'\u001b[0m\n",
      "\u001b[32m2025-04-23 23:26:22.713\u001b[0m | \u001b[1mINFO    \u001b[0m | \u001b[36mcore.chroma_db.chroma_manager\u001b[0m:\u001b[36madd_from_excel\u001b[0m:\u001b[36m218\u001b[0m - \u001b[1mSuccessfully added data from data/Specification.xlsx (ЭПИ) to collection 'EPI'\u001b[0m\n",
      "\u001b[32m2025-04-23 23:26:22.713\u001b[0m | \u001b[1mINFO    \u001b[0m | \u001b[36mcore.embedder.embedding_processor\u001b[0m:\u001b[36mprocess_excel_data\u001b[0m:\u001b[36m103\u001b[0m - \u001b[1mProcessing Excel data from file: data/Specification.xlsx, sheet: YSC\u001b[0m\n",
      "\u001b[32m2025-04-23 23:26:22.726\u001b[0m | \u001b[1mINFO    \u001b[0m | \u001b[36mcore.embedder.embedding_processor\u001b[0m:\u001b[36mprocess_excel_data\u001b[0m:\u001b[36m109\u001b[0m - \u001b[1mSuccessfully read Excel data with shape: (1, 30)\u001b[0m\n",
      "\u001b[32m2025-04-23 23:26:22.727\u001b[0m | \u001b[1mINFO    \u001b[0m | \u001b[36mcore.embedder.embedding_processor\u001b[0m:\u001b[36mprocess_excel_data\u001b[0m:\u001b[36m150\u001b[0m - \u001b[1mProcessed 30 documents from Excel data\u001b[0m\n",
      "\u001b[32m2025-04-23 23:26:22.730\u001b[0m | \u001b[1mINFO    \u001b[0m | \u001b[36mcore.chroma_db.chroma_manager\u001b[0m:\u001b[36mcreate_collection\u001b[0m:\u001b[36m79\u001b[0m - \u001b[1mCollection 'YSC' already exists.\u001b[0m\n",
      "\u001b[32m2025-04-23 23:26:22.732\u001b[0m | \u001b[1mINFO    \u001b[0m | \u001b[36mcore.chroma_db.chroma_manager\u001b[0m:\u001b[36mget_collection\u001b[0m:\u001b[36m106\u001b[0m - \u001b[1mRetrieved collection 'YSC'\u001b[0m\n",
      "\u001b[32m2025-04-23 23:27:44.426\u001b[0m | \u001b[1mINFO    \u001b[0m | \u001b[36mcore.chroma_db.chroma_manager\u001b[0m:\u001b[36madd_documents\u001b[0m:\u001b[36m146\u001b[0m - \u001b[1mAdded 30 documents to collection 'YSC'\u001b[0m\n",
      "\u001b[32m2025-04-23 23:27:44.426\u001b[0m | \u001b[1mINFO    \u001b[0m | \u001b[36mcore.chroma_db.chroma_manager\u001b[0m:\u001b[36madd_from_excel\u001b[0m:\u001b[36m218\u001b[0m - \u001b[1mSuccessfully added data from data/Specification.xlsx (YSC) to collection 'YSC'\u001b[0m\n",
      "\u001b[32m2025-04-23 23:27:44.426\u001b[0m | \u001b[1mINFO    \u001b[0m | \u001b[36mcore.embedder.embedding_processor\u001b[0m:\u001b[36mprocess_excel_data\u001b[0m:\u001b[36m103\u001b[0m - \u001b[1mProcessing Excel data from file: data/Specification.xlsx, sheet: FRUCT\u001b[0m\n",
      "\u001b[32m2025-04-23 23:27:44.440\u001b[0m | \u001b[1mINFO    \u001b[0m | \u001b[36mcore.embedder.embedding_processor\u001b[0m:\u001b[36mprocess_excel_data\u001b[0m:\u001b[36m109\u001b[0m - \u001b[1mSuccessfully read Excel data with shape: (1, 3)\u001b[0m\n",
      "\u001b[32m2025-04-23 23:27:44.440\u001b[0m | \u001b[1mINFO    \u001b[0m | \u001b[36mcore.embedder.embedding_processor\u001b[0m:\u001b[36mprocess_excel_data\u001b[0m:\u001b[36m150\u001b[0m - \u001b[1mProcessed 3 documents from Excel data\u001b[0m\n",
      "\u001b[32m2025-04-23 23:27:44.499\u001b[0m | \u001b[1mINFO    \u001b[0m | \u001b[36mcore.chroma_db.chroma_manager\u001b[0m:\u001b[36mcreate_collection\u001b[0m:\u001b[36m87\u001b[0m - \u001b[1mCreated new collection 'FRUCT' with metadata: {'source_file': 'data/Specification.xlsx', 'sheet_name': 'FRUCT', 'conf_title': 'FRUCT', 'conf_title_short': 'FRUCT'}\u001b[0m\n",
      "\u001b[32m2025-04-23 23:27:44.500\u001b[0m | \u001b[1mINFO    \u001b[0m | \u001b[36mcore.chroma_db.chroma_manager\u001b[0m:\u001b[36mget_collection\u001b[0m:\u001b[36m106\u001b[0m - \u001b[1mRetrieved collection 'FRUCT'\u001b[0m\n",
      "\u001b[32m2025-04-23 23:27:45.154\u001b[0m | \u001b[1mINFO    \u001b[0m | \u001b[36mcore.chroma_db.chroma_manager\u001b[0m:\u001b[36madd_documents\u001b[0m:\u001b[36m146\u001b[0m - \u001b[1mAdded 3 documents to collection 'FRUCT'\u001b[0m\n",
      "\u001b[32m2025-04-23 23:27:45.154\u001b[0m | \u001b[1mINFO    \u001b[0m | \u001b[36mcore.chroma_db.chroma_manager\u001b[0m:\u001b[36madd_from_excel\u001b[0m:\u001b[36m218\u001b[0m - \u001b[1mSuccessfully added data from data/Specification.xlsx (FRUCT) to collection 'FRUCT'\u001b[0m\n"
     ]
    },
    {
     "data": {
      "text/plain": [
       "True"
      ]
     },
     "execution_count": 16,
     "metadata": {},
     "output_type": "execute_result"
    }
   ],
   "source": [
    "# Add each conference collection\n",
    "chroma_manager.add_from_excel(excel_path, \"ППС\", \"PPS\")\n",
    "chroma_manager.add_from_excel(excel_path, \"КМУ\", \"KMU\")\n",
    "chroma_manager.add_from_excel(excel_path, \"ЭПИ\", \"EPI\")\n",
    "chroma_manager.add_from_excel(excel_path, \"YSC\", \"YSC\")\n",
    "chroma_manager.add_from_excel(excel_path, \"FRUCT\", \"FRUCT\")"
   ]
  },
  {
   "cell_type": "code",
   "execution_count": 17,
   "metadata": {},
   "outputs": [
    {
     "name": "stderr",
     "output_type": "stream",
     "text": [
      "\u001b[32m2025-04-23 23:28:01.343\u001b[0m | \u001b[1mINFO    \u001b[0m | \u001b[36mcore.chroma_db.chroma_manager\u001b[0m:\u001b[36mlist_collections\u001b[0m:\u001b[36m56\u001b[0m - \u001b[1mListed 5 collections in ChromaDB\u001b[0m\n"
     ]
    },
    {
     "name": "stdout",
     "output_type": "stream",
     "text": [
      "Total collections created: 5\n",
      "Collection: KMU\n",
      "Collection: PPS\n",
      "Collection: YSC\n",
      "Collection: FRUCT\n",
      "Collection: EPI\n"
     ]
    }
   ],
   "source": [
    "# Check the list of collections\n",
    "collections = chroma_manager.list_collections()\n",
    "print(f\"Total collections created: {len(collections)}\")\n",
    "for collection in collections:\n",
    "    print(f\"Collection: {collection.name}\")"
   ]
  },
  {
   "cell_type": "code",
   "execution_count": null,
   "metadata": {},
   "outputs": [],
   "source": []
  }
 ],
 "metadata": {
  "kernelspec": {
   "display_name": "ed",
   "language": "python",
   "name": "python3"
  },
  "language_info": {
   "codemirror_mode": {
    "name": "ipython",
    "version": 3
   },
   "file_extension": ".py",
   "mimetype": "text/x-python",
   "name": "python",
   "nbconvert_exporter": "python",
   "pygments_lexer": "ipython3",
   "version": "3.10.16"
  }
 },
 "nbformat": 4,
 "nbformat_minor": 2
}
