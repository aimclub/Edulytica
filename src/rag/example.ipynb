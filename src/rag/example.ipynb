{
 "cells": [
  {
   "cell_type": "code",
   "execution_count": 1,
   "metadata": {},
   "outputs": [],
   "source": [
    "from pipeline import RAGPipeline"
   ]
  },
  {
   "cell_type": "code",
   "execution_count": 2,
   "metadata": {},
   "outputs": [],
   "source": [
    "# Пример использования\n",
    "article_path = \"D:/GitHub/Edulytica/src/rag/data/article_2.txt\"\n",
    "with open(article_path, 'r', encoding='utf-8') as f:\n",
    "    article_text = f.read()"
   ]
  },
  {
   "cell_type": "code",
   "execution_count": 3,
   "metadata": {},
   "outputs": [],
   "source": [
    "conference_name = \"KMU\""
   ]
  },
  {
   "cell_type": "code",
   "execution_count": 4,
   "metadata": {},
   "outputs": [],
   "source": [
    "promt = \"\"\"Вы – эксперт, опытный рецензент научных статей, обладающий глубокими знаниями в области академического письма и структуры научных публикаций.\n",
    "\n",
    "Проанализируйте предоставленную научную статью и выделите её название.\n",
    "\n",
    "Следуйте следующим шагам (выполняйте все шаги \"в уме\", не нужно генерировать ваши размышления в ответе на запрос):\n",
    "Шаг 1. Внимательно изучите начало статьи, где обычно располагается название.\n",
    "Шаг 2. Определите полное название статьи, включая подзаголовок, если он есть.\n",
    "Шаг 3. Убедитесь, что выделенный текст действительно является названием, а не частью аннотации или введения.\n",
    "\n",
    "Необходимые данные:\n",
    "- Полный текст научной статьи\n",
    "\n",
    "Пожалуйста, выполните проверку согласно указанным шагам.\n",
    "Вас попросили дать ответ строго в следующем формате: \"Название статьи: [полное название статьи]\"\n",
    "\n",
    "Пожалуйста, не пишите ничего лишнего, чего нет в формате ответа.\n",
    "\"\"\""
   ]
  },
  {
   "cell_type": "code",
   "execution_count": 5,
   "metadata": {},
   "outputs": [
    {
     "name": "stderr",
     "output_type": "stream",
     "text": [
      "\u001b[32m2025-04-23 21:55:54.391\u001b[0m | \u001b[1mINFO    \u001b[0m | \u001b[36mcore.utils.config_loader\u001b[0m:\u001b[36mload_config\u001b[0m:\u001b[36m70\u001b[0m - \u001b[1mКонфигурация успешно загружена: {'host': 'localhost', 'port': 8080, 'collections_file': 'all_collections.json', 'embedding_model': 'BAAI/bge-m3', 'rag_promt': 'общая информация о конференции, правила оформления статей, требования к структуре и форматированию, цели конференции', 'general_top': 3, 'artical_top': 1}\u001b[0m\n",
      "\u001b[32m2025-04-23 21:55:54.391\u001b[0m | \u001b[1mINFO    \u001b[0m | \u001b[36mcore.embedder.embedding_processor\u001b[0m:\u001b[36m__init__\u001b[0m:\u001b[36m23\u001b[0m - \u001b[1mInitializing EmbeddingProcessor with model: BAAI/bge-m3\u001b[0m\n",
      "\u001b[32m2025-04-23 21:56:00.241\u001b[0m | \u001b[1mINFO    \u001b[0m | \u001b[36mcore.embedder.embedding_processor\u001b[0m:\u001b[36m__init__\u001b[0m:\u001b[36m28\u001b[0m - \u001b[1mSuccessfully initialized embedding function with model BAAI/bge-m3\u001b[0m\n",
      "\u001b[32m2025-04-23 21:56:00.241\u001b[0m | \u001b[1mINFO    \u001b[0m | \u001b[36mcore.chroma_db.chroma_manager\u001b[0m:\u001b[36m__init__\u001b[0m:\u001b[36m24\u001b[0m - \u001b[1mInitializing ChromaDBManager with host: localhost, port: 8080\u001b[0m\n",
      "\u001b[32m2025-04-23 21:56:00.536\u001b[0m | \u001b[1mINFO    \u001b[0m | \u001b[36mcore.chroma_db.chroma_manager\u001b[0m:\u001b[36m__init__\u001b[0m:\u001b[36m29\u001b[0m - \u001b[1mSuccessfully connected to ChromaDB\u001b[0m\n"
     ]
    }
   ],
   "source": [
    "pipeline = RAGPipeline()\n",
    "        "
   ]
  },
  {
   "cell_type": "code",
   "execution_count": 6,
   "metadata": {},
   "outputs": [
    {
     "name": "stderr",
     "output_type": "stream",
     "text": [
      "\u001b[32m2025-04-23 21:56:00.556\u001b[0m | \u001b[1mINFO    \u001b[0m | \u001b[36mcore.text_processor.text_processor\u001b[0m:\u001b[36mpreprocess_article\u001b[0m:\u001b[36m77\u001b[0m - \u001b[1mPreprocessed article into 3 parts\u001b[0m\n",
      "\u001b[32m2025-04-23 21:56:00.556\u001b[0m | \u001b[1mINFO    \u001b[0m | \u001b[36mpipeline\u001b[0m:\u001b[36mpreprocess_article\u001b[0m:\u001b[36m55\u001b[0m - \u001b[1mPreprocessed article into 3 chunks\u001b[0m\n",
      "\u001b[32m2025-04-23 21:56:00.558\u001b[0m | \u001b[1mINFO    \u001b[0m | \u001b[36mcore.chroma_db.chroma_manager\u001b[0m:\u001b[36mget_collection\u001b[0m:\u001b[36m106\u001b[0m - \u001b[1mRetrieved collection 'KMU'\u001b[0m\n",
      "\u001b[32m2025-04-23 21:56:05.983\u001b[0m | \u001b[1mINFO    \u001b[0m | \u001b[36mpipeline\u001b[0m:\u001b[36msearch_by_embedding\u001b[0m:\u001b[36m98\u001b[0m - \u001b[1mFound 3 results for queries in collection KMU\u001b[0m\n",
      "\u001b[32m2025-04-23 21:56:05.987\u001b[0m | \u001b[1mINFO    \u001b[0m | \u001b[36mcore.chroma_db.chroma_manager\u001b[0m:\u001b[36mget_collection\u001b[0m:\u001b[36m106\u001b[0m - \u001b[1mRetrieved collection 'KMU'\u001b[0m\n",
      "\u001b[32m2025-04-23 21:56:06.125\u001b[0m | \u001b[1mINFO    \u001b[0m | \u001b[36mpipeline\u001b[0m:\u001b[36msearch_by_embedding\u001b[0m:\u001b[36m98\u001b[0m - \u001b[1mFound 1 results for queries in collection KMU\u001b[0m\n"
     ]
    }
   ],
   "source": [
    "article_info = pipeline.pipeline(article_text, conference_name, promt)"
   ]
  },
  {
   "cell_type": "code",
   "execution_count": 7,
   "metadata": {},
   "outputs": [
    {
     "data": {
      "text/plain": [
       "['В Конгрессе имеют право участвовать молодые ученые, ведущие научно-исследовательскую деятельность по профилю объявленных секций и научных школ, имеющие следующие статусы:\\nшкольник\\nбакалавр\\nмагистрант\\nаспирант\\nсотрудник вуза\\nдругой статус\\nУчастниками Конгресса могут быть представители образовательных учреждений, научных организаций и производственных предприятий.\\nК участию в Конгрессе допускаются участники и группы участников (не более трех соавторов в каждом докладе), участники могут указать руководителей и консультантов (не более двух в каждом тезисе доклада).\\nВыступать с докладом в ОНЛАЙН формате могут те участники, доклады которых включены в программу Конгресса.\\nУчастие одного автора в различных секциях не ограничивается. Выступать с одинаковым докладом на разных секциях запрещено.',\n",
       " 'Статьи будут проходить рецензирование, проверку на оригинальность в системе «Антиплагиат» и оформляться по требованиям изданий ИТМО и Сборника трудов Конгресса.\\nДля сборника трудов Конгресса - оригинальность статьи должна составлять не менее 70 процентов.',\n",
       " 'В данной секции мы сосредоточимся на ключевых аспектах фотоники, включая как теоретические основы, так и практические применения. Участники смогут обсудить последние достижения в области, оптических материалов, квантовой фотоники и фотонных технологий.',\n",
       " 'К представлению принимаются междисциплинарные проекты, нацеленные на решение комплексных задач в области химии, материаловедения и смежных направлений.\\nПредставляемые проекты могут быть ориентированы как на фундаментальные исследования в области разработки новых веществ, материалов и подходов, так и на оптимизацию существующих решений для автоматизации процессов.\\nОсобое внимание уделяется проектам, в которых для обработки и систематизации данных используются информационные технологии и инструменты из области искусственного интеллекта.\\nК представлению также принимаются исследования, включающие:\\nмоделирование веществ и материалов, их свойств и путей взаимодействия на различных уровнях;\\nразработку роботизированных и автоматизированных платформ для реализации химических процессов.\\nК участию приглашаются аспиранты, магистранты и школьники.']"
      ]
     },
     "execution_count": 7,
     "metadata": {},
     "output_type": "execute_result"
    }
   ],
   "source": [
    "article_info\n"
   ]
  },
  {
   "cell_type": "code",
   "execution_count": null,
   "metadata": {},
   "outputs": [],
   "source": []
  }
 ],
 "metadata": {
  "kernelspec": {
   "display_name": "ed",
   "language": "python",
   "name": "python3"
  },
  "language_info": {
   "codemirror_mode": {
    "name": "ipython",
    "version": 3
   },
   "file_extension": ".py",
   "mimetype": "text/x-python",
   "name": "python",
   "nbconvert_exporter": "python",
   "pygments_lexer": "ipython3",
   "version": "3.10.16"
  }
 },
 "nbformat": 4,
 "nbformat_minor": 2
}
